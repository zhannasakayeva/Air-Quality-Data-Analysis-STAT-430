{
 "cells": [
  {
   "cell_type": "code",
   "execution_count": 9,
   "id": "7292a432",
   "metadata": {},
   "outputs": [
    {
     "name": "stdout",
     "output_type": "stream",
     "text": [
      "Requirement already satisfied: shiny in /Users/zhanna.sakayeva/opt/anaconda3/lib/python3.9/site-packages (0.2.9)\n",
      "Requirement already satisfied: shinywidgets in /Users/zhanna.sakayeva/opt/anaconda3/lib/python3.9/site-packages (0.1.2)\n",
      "Requirement already satisfied: markdown-it-py>=1.1.0 in /Users/zhanna.sakayeva/opt/anaconda3/lib/python3.9/site-packages (from shiny) (2.1.0)\n",
      "Requirement already satisfied: python-multipart in /Users/zhanna.sakayeva/opt/anaconda3/lib/python3.9/site-packages (from shiny) (0.0.5)\n",
      "Requirement already satisfied: htmltools>=0.1.0.9001 in /Users/zhanna.sakayeva/opt/anaconda3/lib/python3.9/site-packages (from shiny) (0.1.2)\n",
      "Requirement already satisfied: starlette>=0.17.1 in /Users/zhanna.sakayeva/opt/anaconda3/lib/python3.9/site-packages (from shiny) (0.22.0)\n",
      "Requirement already satisfied: mdit-py-plugins>=0.3.0 in /Users/zhanna.sakayeva/opt/anaconda3/lib/python3.9/site-packages (from shiny) (0.3.1)\n",
      "Requirement already satisfied: asgiref>=3.5.2 in /Users/zhanna.sakayeva/opt/anaconda3/lib/python3.9/site-packages (from shiny) (3.5.2)\n",
      "Requirement already satisfied: typing-extensions>=4.0.1 in /Users/zhanna.sakayeva/opt/anaconda3/lib/python3.9/site-packages (from shiny) (4.4.0)\n",
      "Requirement already satisfied: websockets>=10.0 in /Users/zhanna.sakayeva/opt/anaconda3/lib/python3.9/site-packages (from shiny) (10.4)\n",
      "Requirement already satisfied: linkify-it-py>=1.0 in /Users/zhanna.sakayeva/opt/anaconda3/lib/python3.9/site-packages (from shiny) (2.0.0)\n",
      "Requirement already satisfied: click>=8.0.3 in /Users/zhanna.sakayeva/opt/anaconda3/lib/python3.9/site-packages (from shiny) (8.0.4)\n",
      "Requirement already satisfied: uvicorn>=0.16.0 in /Users/zhanna.sakayeva/opt/anaconda3/lib/python3.9/site-packages (from shiny) (0.20.0)\n",
      "Requirement already satisfied: appdirs>=1.4.4 in /Users/zhanna.sakayeva/opt/anaconda3/lib/python3.9/site-packages (from shiny) (1.4.4)\n",
      "Requirement already satisfied: contextvars>=2.4 in /Users/zhanna.sakayeva/opt/anaconda3/lib/python3.9/site-packages (from shiny) (2.4)\n",
      "Requirement already satisfied: jupyter-core in /Users/zhanna.sakayeva/opt/anaconda3/lib/python3.9/site-packages (from shinywidgets) (4.11.2)\n",
      "Requirement already satisfied: python-dateutil>=2.8.2 in /Users/zhanna.sakayeva/opt/anaconda3/lib/python3.9/site-packages (from shinywidgets) (2.8.2)\n",
      "Requirement already satisfied: ipywidgets>=7.6.5 in /Users/zhanna.sakayeva/opt/anaconda3/lib/python3.9/site-packages (from shinywidgets) (7.6.5)\n",
      "Requirement already satisfied: immutables>=0.9 in /Users/zhanna.sakayeva/opt/anaconda3/lib/python3.9/site-packages (from contextvars>=2.4->shiny) (0.19)\n",
      "Requirement already satisfied: packaging>=20.9 in /Users/zhanna.sakayeva/opt/anaconda3/lib/python3.9/site-packages (from htmltools>=0.1.0.9001->shiny) (21.3)\n",
      "Requirement already satisfied: ipykernel>=4.5.1 in /Users/zhanna.sakayeva/opt/anaconda3/lib/python3.9/site-packages (from ipywidgets>=7.6.5->shinywidgets) (6.15.2)\n",
      "Requirement already satisfied: nbformat>=4.2.0 in /Users/zhanna.sakayeva/opt/anaconda3/lib/python3.9/site-packages (from ipywidgets>=7.6.5->shinywidgets) (5.7.0)\n",
      "Requirement already satisfied: ipython>=4.0.0 in /Users/zhanna.sakayeva/opt/anaconda3/lib/python3.9/site-packages (from ipywidgets>=7.6.5->shinywidgets) (7.31.1)\n",
      "Requirement already satisfied: jupyterlab-widgets>=1.0.0 in /Users/zhanna.sakayeva/opt/anaconda3/lib/python3.9/site-packages (from ipywidgets>=7.6.5->shinywidgets) (1.0.0)\n",
      "Requirement already satisfied: ipython-genutils~=0.2.0 in /Users/zhanna.sakayeva/opt/anaconda3/lib/python3.9/site-packages (from ipywidgets>=7.6.5->shinywidgets) (0.2.0)\n",
      "Requirement already satisfied: widgetsnbextension~=3.5.0 in /Users/zhanna.sakayeva/opt/anaconda3/lib/python3.9/site-packages (from ipywidgets>=7.6.5->shinywidgets) (3.5.2)\n",
      "Requirement already satisfied: traitlets>=4.3.1 in /Users/zhanna.sakayeva/opt/anaconda3/lib/python3.9/site-packages (from ipywidgets>=7.6.5->shinywidgets) (5.1.1)\n",
      "Requirement already satisfied: uc-micro-py in /Users/zhanna.sakayeva/opt/anaconda3/lib/python3.9/site-packages (from linkify-it-py>=1.0->shiny) (1.0.1)\n",
      "Requirement already satisfied: mdurl~=0.1 in /Users/zhanna.sakayeva/opt/anaconda3/lib/python3.9/site-packages (from markdown-it-py>=1.1.0->shiny) (0.1.2)\n",
      "Requirement already satisfied: six>=1.5 in /Users/zhanna.sakayeva/opt/anaconda3/lib/python3.9/site-packages (from python-dateutil>=2.8.2->shinywidgets) (1.16.0)\n",
      "Requirement already satisfied: anyio<5,>=3.4.0 in /Users/zhanna.sakayeva/opt/anaconda3/lib/python3.9/site-packages (from starlette>=0.17.1->shiny) (3.6.2)\n",
      "Requirement already satisfied: h11>=0.8 in /Users/zhanna.sakayeva/opt/anaconda3/lib/python3.9/site-packages (from uvicorn>=0.16.0->shiny) (0.14.0)\n",
      "Requirement already satisfied: sniffio>=1.1 in /Users/zhanna.sakayeva/opt/anaconda3/lib/python3.9/site-packages (from anyio<5,>=3.4.0->starlette>=0.17.1->shiny) (1.2.0)\n",
      "Requirement already satisfied: idna>=2.8 in /Users/zhanna.sakayeva/opt/anaconda3/lib/python3.9/site-packages (from anyio<5,>=3.4.0->starlette>=0.17.1->shiny) (3.4)\n",
      "Requirement already satisfied: jupyter-client>=6.1.12 in /Users/zhanna.sakayeva/opt/anaconda3/lib/python3.9/site-packages (from ipykernel>=4.5.1->ipywidgets>=7.6.5->shinywidgets) (7.4.7)\n",
      "Requirement already satisfied: nest-asyncio in /Users/zhanna.sakayeva/opt/anaconda3/lib/python3.9/site-packages (from ipykernel>=4.5.1->ipywidgets>=7.6.5->shinywidgets) (1.5.5)\n",
      "Requirement already satisfied: matplotlib-inline>=0.1 in /Users/zhanna.sakayeva/opt/anaconda3/lib/python3.9/site-packages (from ipykernel>=4.5.1->ipywidgets>=7.6.5->shinywidgets) (0.1.6)\n",
      "Requirement already satisfied: appnope in /Users/zhanna.sakayeva/opt/anaconda3/lib/python3.9/site-packages (from ipykernel>=4.5.1->ipywidgets>=7.6.5->shinywidgets) (0.1.2)\n",
      "Requirement already satisfied: debugpy>=1.0 in /Users/zhanna.sakayeva/opt/anaconda3/lib/python3.9/site-packages (from ipykernel>=4.5.1->ipywidgets>=7.6.5->shinywidgets) (1.5.1)\n",
      "Requirement already satisfied: psutil in /Users/zhanna.sakayeva/opt/anaconda3/lib/python3.9/site-packages (from ipykernel>=4.5.1->ipywidgets>=7.6.5->shinywidgets) (5.9.0)\n",
      "Requirement already satisfied: pyzmq>=17 in /Users/zhanna.sakayeva/opt/anaconda3/lib/python3.9/site-packages (from ipykernel>=4.5.1->ipywidgets>=7.6.5->shinywidgets) (23.2.0)\n",
      "Requirement already satisfied: tornado>=6.1 in /Users/zhanna.sakayeva/opt/anaconda3/lib/python3.9/site-packages (from ipykernel>=4.5.1->ipywidgets>=7.6.5->shinywidgets) (6.2)\n",
      "Requirement already satisfied: prompt-toolkit!=3.0.0,!=3.0.1,<3.1.0,>=2.0.0 in /Users/zhanna.sakayeva/opt/anaconda3/lib/python3.9/site-packages (from ipython>=4.0.0->ipywidgets>=7.6.5->shinywidgets) (3.0.20)\n",
      "Requirement already satisfied: setuptools>=18.5 in /Users/zhanna.sakayeva/opt/anaconda3/lib/python3.9/site-packages (from ipython>=4.0.0->ipywidgets>=7.6.5->shinywidgets) (65.5.0)\n",
      "Requirement already satisfied: pickleshare in /Users/zhanna.sakayeva/opt/anaconda3/lib/python3.9/site-packages (from ipython>=4.0.0->ipywidgets>=7.6.5->shinywidgets) (0.7.5)\n",
      "Requirement already satisfied: decorator in /Users/zhanna.sakayeva/opt/anaconda3/lib/python3.9/site-packages (from ipython>=4.0.0->ipywidgets>=7.6.5->shinywidgets) (5.1.1)\n",
      "Requirement already satisfied: backcall in /Users/zhanna.sakayeva/opt/anaconda3/lib/python3.9/site-packages (from ipython>=4.0.0->ipywidgets>=7.6.5->shinywidgets) (0.2.0)\n",
      "Requirement already satisfied: jedi>=0.16 in /Users/zhanna.sakayeva/opt/anaconda3/lib/python3.9/site-packages (from ipython>=4.0.0->ipywidgets>=7.6.5->shinywidgets) (0.18.1)\n",
      "Requirement already satisfied: pygments in /Users/zhanna.sakayeva/opt/anaconda3/lib/python3.9/site-packages (from ipython>=4.0.0->ipywidgets>=7.6.5->shinywidgets) (2.11.2)\n",
      "Requirement already satisfied: pexpect>4.3 in /Users/zhanna.sakayeva/opt/anaconda3/lib/python3.9/site-packages (from ipython>=4.0.0->ipywidgets>=7.6.5->shinywidgets) (4.8.0)\n",
      "Requirement already satisfied: jsonschema>=2.6 in /Users/zhanna.sakayeva/opt/anaconda3/lib/python3.9/site-packages (from nbformat>=4.2.0->ipywidgets>=7.6.5->shinywidgets) (4.16.0)\n",
      "Requirement already satisfied: fastjsonschema in /Users/zhanna.sakayeva/opt/anaconda3/lib/python3.9/site-packages (from nbformat>=4.2.0->ipywidgets>=7.6.5->shinywidgets) (2.16.2)\n",
      "Requirement already satisfied: pyparsing!=3.0.5,>=2.0.2 in /Users/zhanna.sakayeva/opt/anaconda3/lib/python3.9/site-packages (from packaging>=20.9->htmltools>=0.1.0.9001->shiny) (3.0.9)\n",
      "Requirement already satisfied: notebook>=4.4.1 in /Users/zhanna.sakayeva/opt/anaconda3/lib/python3.9/site-packages (from widgetsnbextension~=3.5.0->ipywidgets>=7.6.5->shinywidgets) (6.5.2)\n"
     ]
    },
    {
     "name": "stdout",
     "output_type": "stream",
     "text": [
      "Requirement already satisfied: parso<0.9.0,>=0.8.0 in /Users/zhanna.sakayeva/opt/anaconda3/lib/python3.9/site-packages (from jedi>=0.16->ipython>=4.0.0->ipywidgets>=7.6.5->shinywidgets) (0.8.3)\n",
      "Requirement already satisfied: attrs>=17.4.0 in /Users/zhanna.sakayeva/opt/anaconda3/lib/python3.9/site-packages (from jsonschema>=2.6->nbformat>=4.2.0->ipywidgets>=7.6.5->shinywidgets) (22.1.0)\n",
      "Requirement already satisfied: pyrsistent!=0.17.0,!=0.17.1,!=0.17.2,>=0.14.0 in /Users/zhanna.sakayeva/opt/anaconda3/lib/python3.9/site-packages (from jsonschema>=2.6->nbformat>=4.2.0->ipywidgets>=7.6.5->shinywidgets) (0.18.0)\n",
      "Requirement already satisfied: entrypoints in /Users/zhanna.sakayeva/opt/anaconda3/lib/python3.9/site-packages (from jupyter-client>=6.1.12->ipykernel>=4.5.1->ipywidgets>=7.6.5->shinywidgets) (0.4)\n",
      "Requirement already satisfied: nbconvert>=5 in /Users/zhanna.sakayeva/opt/anaconda3/lib/python3.9/site-packages (from notebook>=4.4.1->widgetsnbextension~=3.5.0->ipywidgets>=7.6.5->shinywidgets) (6.4.4)\n",
      "Requirement already satisfied: nbclassic>=0.4.7 in /Users/zhanna.sakayeva/opt/anaconda3/lib/python3.9/site-packages (from notebook>=4.4.1->widgetsnbextension~=3.5.0->ipywidgets>=7.6.5->shinywidgets) (0.4.8)\n",
      "Requirement already satisfied: terminado>=0.8.3 in /Users/zhanna.sakayeva/opt/anaconda3/lib/python3.9/site-packages (from notebook>=4.4.1->widgetsnbextension~=3.5.0->ipywidgets>=7.6.5->shinywidgets) (0.13.1)\n",
      "Requirement already satisfied: prometheus-client in /Users/zhanna.sakayeva/opt/anaconda3/lib/python3.9/site-packages (from notebook>=4.4.1->widgetsnbextension~=3.5.0->ipywidgets>=7.6.5->shinywidgets) (0.14.1)\n",
      "Requirement already satisfied: Send2Trash>=1.8.0 in /Users/zhanna.sakayeva/opt/anaconda3/lib/python3.9/site-packages (from notebook>=4.4.1->widgetsnbextension~=3.5.0->ipywidgets>=7.6.5->shinywidgets) (1.8.0)\n",
      "Requirement already satisfied: jinja2 in /Users/zhanna.sakayeva/opt/anaconda3/lib/python3.9/site-packages (from notebook>=4.4.1->widgetsnbextension~=3.5.0->ipywidgets>=7.6.5->shinywidgets) (2.11.3)\n",
      "Requirement already satisfied: argon2-cffi in /Users/zhanna.sakayeva/opt/anaconda3/lib/python3.9/site-packages (from notebook>=4.4.1->widgetsnbextension~=3.5.0->ipywidgets>=7.6.5->shinywidgets) (21.3.0)\n",
      "Requirement already satisfied: ptyprocess>=0.5 in /Users/zhanna.sakayeva/opt/anaconda3/lib/python3.9/site-packages (from pexpect>4.3->ipython>=4.0.0->ipywidgets>=7.6.5->shinywidgets) (0.7.0)\n",
      "Requirement already satisfied: wcwidth in /Users/zhanna.sakayeva/opt/anaconda3/lib/python3.9/site-packages (from prompt-toolkit!=3.0.0,!=3.0.1,<3.1.0,>=2.0.0->ipython>=4.0.0->ipywidgets>=7.6.5->shinywidgets) (0.2.5)\n",
      "Requirement already satisfied: jupyter-server>=1.8 in /Users/zhanna.sakayeva/opt/anaconda3/lib/python3.9/site-packages (from nbclassic>=0.4.7->notebook>=4.4.1->widgetsnbextension~=3.5.0->ipywidgets>=7.6.5->shinywidgets) (1.18.1)\n",
      "Requirement already satisfied: notebook-shim>=0.1.0 in /Users/zhanna.sakayeva/opt/anaconda3/lib/python3.9/site-packages (from nbclassic>=0.4.7->notebook>=4.4.1->widgetsnbextension~=3.5.0->ipywidgets>=7.6.5->shinywidgets) (0.2.2)\n",
      "Requirement already satisfied: jupyterlab-pygments in /Users/zhanna.sakayeva/opt/anaconda3/lib/python3.9/site-packages (from nbconvert>=5->notebook>=4.4.1->widgetsnbextension~=3.5.0->ipywidgets>=7.6.5->shinywidgets) (0.1.2)\n",
      "Requirement already satisfied: defusedxml in /Users/zhanna.sakayeva/opt/anaconda3/lib/python3.9/site-packages (from nbconvert>=5->notebook>=4.4.1->widgetsnbextension~=3.5.0->ipywidgets>=7.6.5->shinywidgets) (0.7.1)\n",
      "Requirement already satisfied: pandocfilters>=1.4.1 in /Users/zhanna.sakayeva/opt/anaconda3/lib/python3.9/site-packages (from nbconvert>=5->notebook>=4.4.1->widgetsnbextension~=3.5.0->ipywidgets>=7.6.5->shinywidgets) (1.5.0)\n",
      "Requirement already satisfied: nbclient<0.6.0,>=0.5.0 in /Users/zhanna.sakayeva/opt/anaconda3/lib/python3.9/site-packages (from nbconvert>=5->notebook>=4.4.1->widgetsnbextension~=3.5.0->ipywidgets>=7.6.5->shinywidgets) (0.5.13)\n",
      "Requirement already satisfied: testpath in /Users/zhanna.sakayeva/opt/anaconda3/lib/python3.9/site-packages (from nbconvert>=5->notebook>=4.4.1->widgetsnbextension~=3.5.0->ipywidgets>=7.6.5->shinywidgets) (0.6.0)\n",
      "Requirement already satisfied: mistune<2,>=0.8.1 in /Users/zhanna.sakayeva/opt/anaconda3/lib/python3.9/site-packages (from nbconvert>=5->notebook>=4.4.1->widgetsnbextension~=3.5.0->ipywidgets>=7.6.5->shinywidgets) (0.8.4)\n",
      "Requirement already satisfied: beautifulsoup4 in /Users/zhanna.sakayeva/opt/anaconda3/lib/python3.9/site-packages (from nbconvert>=5->notebook>=4.4.1->widgetsnbextension~=3.5.0->ipywidgets>=7.6.5->shinywidgets) (4.11.1)\n",
      "Requirement already satisfied: bleach in /Users/zhanna.sakayeva/opt/anaconda3/lib/python3.9/site-packages (from nbconvert>=5->notebook>=4.4.1->widgetsnbextension~=3.5.0->ipywidgets>=7.6.5->shinywidgets) (4.1.0)\n",
      "Requirement already satisfied: MarkupSafe>=0.23 in /Users/zhanna.sakayeva/opt/anaconda3/lib/python3.9/site-packages (from jinja2->notebook>=4.4.1->widgetsnbextension~=3.5.0->ipywidgets>=7.6.5->shinywidgets) (2.0.1)\n",
      "Requirement already satisfied: argon2-cffi-bindings in /Users/zhanna.sakayeva/opt/anaconda3/lib/python3.9/site-packages (from argon2-cffi->notebook>=4.4.1->widgetsnbextension~=3.5.0->ipywidgets>=7.6.5->shinywidgets) (21.2.0)\n",
      "Requirement already satisfied: websocket-client in /Users/zhanna.sakayeva/opt/anaconda3/lib/python3.9/site-packages (from jupyter-server>=1.8->nbclassic>=0.4.7->notebook>=4.4.1->widgetsnbextension~=3.5.0->ipywidgets>=7.6.5->shinywidgets) (0.58.0)\n",
      "Requirement already satisfied: cffi>=1.0.1 in /Users/zhanna.sakayeva/opt/anaconda3/lib/python3.9/site-packages (from argon2-cffi-bindings->argon2-cffi->notebook>=4.4.1->widgetsnbextension~=3.5.0->ipywidgets>=7.6.5->shinywidgets) (1.15.1)\n",
      "Requirement already satisfied: soupsieve>1.2 in /Users/zhanna.sakayeva/opt/anaconda3/lib/python3.9/site-packages (from beautifulsoup4->nbconvert>=5->notebook>=4.4.1->widgetsnbextension~=3.5.0->ipywidgets>=7.6.5->shinywidgets) (2.3.2.post1)\n",
      "Requirement already satisfied: webencodings in /Users/zhanna.sakayeva/opt/anaconda3/lib/python3.9/site-packages (from bleach->nbconvert>=5->notebook>=4.4.1->widgetsnbextension~=3.5.0->ipywidgets>=7.6.5->shinywidgets) (0.5.1)\n",
      "Requirement already satisfied: pycparser in /Users/zhanna.sakayeva/opt/anaconda3/lib/python3.9/site-packages (from cffi>=1.0.1->argon2-cffi-bindings->argon2-cffi->notebook>=4.4.1->widgetsnbextension~=3.5.0->ipywidgets>=7.6.5->shinywidgets) (2.21)\n"
     ]
    }
   ],
   "source": [
    "!pip install shiny shinywidgets"
   ]
  },
  {
   "cell_type": "code",
   "execution_count": 10,
   "id": "c97d6ab5",
   "metadata": {},
   "outputs": [],
   "source": [
    "from pathlib import Path\n",
    "\n",
    "Path(\"firstshiny\").mkdir(parents = True, exist_ok = True)"
   ]
  },
  {
   "cell_type": "code",
   "execution_count": 11,
   "id": "b1ae3bb9",
   "metadata": {},
   "outputs": [
    {
     "name": "stdout",
     "output_type": "stream",
     "text": [
      "Overwriting firstshiny/app.py\n"
     ]
    }
   ],
   "source": [
    "%%writefile firstshiny/app.py\n",
    "from typing import List\n",
    "\n",
    "from shiny import *\n",
    "from shiny.types import NavSetArg\n",
    "from shiny.ui import h4\n",
    "import skimage\n",
    "import numpy as np\n",
    "from PIL import Image, ImageOps\n",
    "from pathlib import Path\n",
    "from shiny import App, render, ui\n",
    "from shiny.types import FileInfo, ImgData, SilentException\n",
    "\n",
    "def nav_controls(prefix: str) -> List[NavSetArg]:\n",
    "    return [\n",
    "        ui.nav(\"Time Series\", \"Time series visualization from year 2020: \", ui.img(src=\"timeseries.png\", style=\"width: 800px;\")),\n",
    "        ui.nav(\"First 5 observations\", \"First five observations from the whole dataset: \", ui.img(src=\"five.png\", style=\"width: 800px;\")),\n",
    "        ui.nav(\"PM2.5 By Month\", \"Boxplot of PM2.5 by month in year of 2020: \", ui.img(src=\"box2020.png\", style=\"width: 800px;\")),\n",
    "        ui.nav(\"PM2.5 Change\",\" How PM2.5 has changed on average over the years from 2015 to 2022: \", ui.img(src=\"byyear.png\", style=\"width: 800px;\")),\n",
    "        ui.nav(\"Heatmap\", \"Correlation matrix for the dataset: \", ui.img(src=\"heatmap.png\", style=\"width: 800px;\")),\n",
    "        ui.nav(\"Month Trend\", \"The monthly seasonal trend: \", ui.img(src=\"month_trend.png\", style=\"width: 800px;\")),\n",
    "\n",
    "        ui.nav_spacer(),\n",
    "        \n",
    "    ]\n",
    "\n",
    "app_ui = ui.page_navbar(\n",
    "    title=\"EDA\",\n",
    "    bg=\"#0062cc\",\n",
    "    inverse=True,\n",
    "    id=\"navbar_id\",\n",
    "    footer=ui.div(\n",
    "        {\"style\": \"width:80%;margin: 0 auto\"},\n",
    "        ui.tags.style(\n",
    "            \"\"\"\n",
    "            h4 {\n",
    "                margin-top: 3em;\n",
    "            }\n",
    "            \"\"\"\n",
    "        ),\n",
    "        h4(\"EDA\"),\n",
    "        ui.navset_tab(*nav_controls(\"navset_tab()\")),\n",
    "        \n",
    "    )\n",
    ")\n",
    "\n",
    "\n",
    "def server(input, output, session):\n",
    "    @output\n",
    "    @render.ui\n",
    "    def images() -> ui.Tag:\n",
    "        img = ui.img(src=\"heatmap.png\", style=\"width: 400px;\")\n",
    "        return img\n",
    "    \n",
    "www_dir = Path(__file__).parent / \"www\"\n",
    "app = App(app_ui, server, static_assets=www_dir)  "
   ]
  },
  {
   "cell_type": "code",
   "execution_count": 12,
   "id": "529e47dc",
   "metadata": {},
   "outputs": [
    {
     "name": "stdout",
     "output_type": "stream",
     "text": [
      "\u001b[32mINFO\u001b[0m:     Will watch for changes in these directories: ['/Users/zhanna.sakayeva/Downloads/firstshiny']\n",
      "\u001b[32mINFO\u001b[0m:     Uvicorn running on \u001b[1mhttp://127.0.0.1:8000\u001b[0m (Press CTRL+C to quit)\n",
      "\u001b[32mINFO\u001b[0m:     Started reloader process [\u001b[36m\u001b[1m67971\u001b[0m] using \u001b[36m\u001b[1mStatReload\u001b[0m\n",
      "\u001b[32mINFO\u001b[0m:     Started server process [\u001b[36m67973\u001b[0m]\n",
      "\u001b[32mINFO\u001b[0m:     Waiting for application startup.\n",
      "\u001b[32mINFO\u001b[0m:     Application startup complete.\n",
      "\u001b[32mINFO\u001b[0m:     127.0.0.1:53062 - \"\u001b[1mGET / HTTP/1.1\u001b[0m\" \u001b[32m200 OK\u001b[0m\n",
      "\u001b[32mINFO\u001b[0m:     127.0.0.1:53062 - \"\u001b[1mGET /timeseries.png HTTP/1.1\u001b[0m\" \u001b[33m304 Not Modified\u001b[0m\n",
      "\u001b[32mINFO\u001b[0m:     127.0.0.1:53063 - \"\u001b[1mGET /five.png HTTP/1.1\u001b[0m\" \u001b[33m304 Not Modified\u001b[0m\n",
      "\u001b[32mINFO\u001b[0m:     127.0.0.1:53064 - \"\u001b[1mGET /box2020.png HTTP/1.1\u001b[0m\" \u001b[33m304 Not Modified\u001b[0m\n",
      "\u001b[32mINFO\u001b[0m:     127.0.0.1:53064 - \"\u001b[1mGET /month_trend.png HTTP/1.1\u001b[0m\" \u001b[33m304 Not Modified\u001b[0m\n",
      "\u001b[32mINFO\u001b[0m:     127.0.0.1:53062 - \"\u001b[1mGET /byyear.png HTTP/1.1\u001b[0m\" \u001b[33m304 Not Modified\u001b[0m\n",
      "\u001b[32mINFO\u001b[0m:     127.0.0.1:53063 - \"\u001b[1mGET /heatmap.png HTTP/1.1\u001b[0m\" \u001b[33m304 Not Modified\u001b[0m\n",
      "\u001b[32mINFO\u001b[0m:     127.0.0.1:53063 - \"\u001b[1mGET / HTTP/1.1\u001b[0m\" \u001b[32m200 OK\u001b[0m\n",
      "\u001b[32mINFO\u001b[0m:     ('127.0.0.1', 53066) - \"WebSocket /websocket/\" [accepted]\n",
      "\u001b[32mINFO\u001b[0m:     connection open\n",
      "\u001b[32mINFO\u001b[0m:     connection closed\n",
      "^C\n",
      "\u001b[32mINFO\u001b[0m:     Shutting down\n",
      "\u001b[32mINFO\u001b[0m:     Waiting for application shutdown.\n",
      "\u001b[32mINFO\u001b[0m:     Application shutdown complete.\n",
      "\u001b[32mINFO\u001b[0m:     Finished server process [\u001b[36m67973\u001b[0m]\n"
     ]
    }
   ],
   "source": [
    "!shiny run --reload firstshiny/app.py"
   ]
  },
  {
   "cell_type": "code",
   "execution_count": 13,
   "id": "52c53f54",
   "metadata": {},
   "outputs": [
    {
     "data": {
      "text/plain": [
       "<statsmodels.regression.linear_model.RegressionResultsWrapper at 0x7ff02ab2c6a0>"
      ]
     },
     "execution_count": 13,
     "metadata": {},
     "output_type": "execute_result"
    }
   ],
   "source": [
    "#load\n",
    "import statsmodels.api as sm\n",
    "\n",
    "OLS2 = sm.load(\"OLS2.pickle\")\n",
    "OLS2"
   ]
  },
  {
   "cell_type": "code",
   "execution_count": 14,
   "id": "78cc8e67",
   "metadata": {},
   "outputs": [
    {
     "data": {
      "text/plain": [
       "0   -3.845868\n",
       "dtype: float64"
      ]
     },
     "execution_count": 14,
     "metadata": {},
     "output_type": "execute_result"
    }
   ],
   "source": [
    "import pandas as pd\n",
    "import numpy as np\n",
    "import seaborn as sns\n",
    "import matplotlib.pyplot as plt\n",
    "a = pd.DataFrame({'const': [1],  \n",
    "              'AQI_O3_4hr': [2], \n",
    "              'AQI_PM10': [3]})\n",
    "OLS2.predict(a)"
   ]
  },
  {
   "cell_type": "code",
   "execution_count": 15,
   "id": "3a591ec7",
   "metadata": {},
   "outputs": [
    {
     "name": "stdout",
     "output_type": "stream",
     "text": [
      "Overwriting firstshiny/app2.py\n"
     ]
    }
   ],
   "source": [
    "%%writefile firstshiny/app2.py\n",
    "from shiny import App, render, ui\n",
    "import matplotlib.pyplot as plt\n",
    "import numpy as np\n",
    "import statsmodels.api as sm\n",
    "import pandas as pd\n",
    "\n",
    "app_ui = ui.page_fluid(\n",
    "  # App title\n",
    "  ui.panel_title(\"Regression Model Prediction\"),\n",
    "\n",
    "  # Sidebar layout container\n",
    "  ui.layout_sidebar(\n",
    "\n",
    "    # Sidebar inputs \n",
    "    ui.panel_sidebar(\n",
    "      ui.input_slider(\"O3\", \"AQI_O3_4hr\", 0, 150, 1),\n",
    "      ui.input_slider(\"PM10\", \"AQI_PM10\", 0, 1000, 5),\n",
    "    ),\n",
    "\n",
    "    # Output display region \n",
    "    ui.output_text_verbatim(\"txt\"),\n",
    "    \n",
    "  ),\n",
    ")\n",
    "\n",
    "    # Part 2: server ----\n",
    "def server(input, output, session):\n",
    "  @output\n",
    "  @render.text\n",
    "\n",
    "  def txt():\n",
    "    OLS2 = sm.load(\"OLS2.pickle\")\n",
    "    a = pd.DataFrame({'const': [1],  \n",
    "              'AQI_O3_4hr': [input.O3()], \n",
    "              'AQI_PM10': [input.PM10()]})\n",
    "    return f\"The prediction of AQI_PM2.5 concentration is {OLS2.predict(a)[0]}\"\n",
    "\n",
    "app = App(app_ui, server)"
   ]
  },
  {
   "cell_type": "code",
   "execution_count": 16,
   "id": "9645b825",
   "metadata": {},
   "outputs": [
    {
     "name": "stdout",
     "output_type": "stream",
     "text": [
      "\u001b[32mINFO\u001b[0m:     Will watch for changes in these directories: ['/Users/zhanna.sakayeva/Downloads/firstshiny']\n",
      "\u001b[32mINFO\u001b[0m:     Uvicorn running on \u001b[1mhttp://127.0.0.1:8000\u001b[0m (Press CTRL+C to quit)\n",
      "\u001b[32mINFO\u001b[0m:     Started reloader process [\u001b[36m\u001b[1m67989\u001b[0m] using \u001b[36m\u001b[1mStatReload\u001b[0m\n",
      "\u001b[32mINFO\u001b[0m:     Started server process [\u001b[36m67991\u001b[0m]\n",
      "\u001b[32mINFO\u001b[0m:     Waiting for application startup.\n",
      "\u001b[32mINFO\u001b[0m:     Application startup complete.\n",
      "\u001b[32mINFO\u001b[0m:     127.0.0.1:53071 - \"\u001b[1mGET / HTTP/1.1\u001b[0m\" \u001b[32m200 OK\u001b[0m\n",
      "\u001b[32mINFO\u001b[0m:     127.0.0.1:53071 - \"\u001b[1mGET / HTTP/1.1\u001b[0m\" \u001b[32m200 OK\u001b[0m\n",
      "\u001b[32mINFO\u001b[0m:     ('127.0.0.1', 53074) - \"WebSocket /websocket/\" [accepted]\n",
      "\u001b[32mINFO\u001b[0m:     connection open\n",
      "\u001b[32mINFO\u001b[0m:     connection closed\n",
      "^C\n",
      "\u001b[32mINFO\u001b[0m:     Shutting down\n",
      "\u001b[32mINFO\u001b[0m:     Waiting for application shutdown.\n",
      "\u001b[32mINFO\u001b[0m:     Application shutdown complete.\n",
      "\u001b[32mINFO\u001b[0m:     Finished server process [\u001b[36m67991\u001b[0m]\n"
     ]
    }
   ],
   "source": [
    "!shiny run --reload firstshiny/app2.py"
   ]
  },
  {
   "cell_type": "code",
   "execution_count": null,
   "id": "d99a20b2",
   "metadata": {},
   "outputs": [],
   "source": []
  }
 ],
 "metadata": {
  "kernelspec": {
   "display_name": "Python 3 (ipykernel)",
   "language": "python",
   "name": "python3"
  },
  "language_info": {
   "codemirror_mode": {
    "name": "ipython",
    "version": 3
   },
   "file_extension": ".py",
   "mimetype": "text/x-python",
   "name": "python",
   "nbconvert_exporter": "python",
   "pygments_lexer": "ipython3",
   "version": "3.9.7"
  }
 },
 "nbformat": 4,
 "nbformat_minor": 5
}
